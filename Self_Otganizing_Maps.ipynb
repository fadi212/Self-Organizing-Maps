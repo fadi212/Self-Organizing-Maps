{
 "cells": [
  {
   "cell_type": "code",
   "execution_count": 1,
   "metadata": {},
   "outputs": [],
   "source": [
    "import numpy as np\n",
    "import pandas as pd\n",
    "import seaborn as sns\n",
    "import matplotlib.pyplot as plt\n",
    "sns.set()\n",
    "\n",
    "from minisom import MiniSom"
   ]
  },
  {
   "cell_type": "code",
   "execution_count": 2,
   "metadata": {},
   "outputs": [],
   "source": [
    "df = pd.read_csv(r'E:\\P16-Self-Organizing-Maps\\Credit_Card_Applications.csv')"
   ]
  },
  {
   "cell_type": "code",
   "execution_count": 3,
   "metadata": {},
   "outputs": [
    {
     "data": {
      "text/html": [
       "<div>\n",
       "<style scoped>\n",
       "    .dataframe tbody tr th:only-of-type {\n",
       "        vertical-align: middle;\n",
       "    }\n",
       "\n",
       "    .dataframe tbody tr th {\n",
       "        vertical-align: top;\n",
       "    }\n",
       "\n",
       "    .dataframe thead th {\n",
       "        text-align: right;\n",
       "    }\n",
       "</style>\n",
       "<table border=\"1\" class=\"dataframe\">\n",
       "  <thead>\n",
       "    <tr style=\"text-align: right;\">\n",
       "      <th></th>\n",
       "      <th>CustomerID</th>\n",
       "      <th>A1</th>\n",
       "      <th>A2</th>\n",
       "      <th>A3</th>\n",
       "      <th>A4</th>\n",
       "      <th>A5</th>\n",
       "      <th>A6</th>\n",
       "      <th>A7</th>\n",
       "      <th>A8</th>\n",
       "      <th>A9</th>\n",
       "      <th>A10</th>\n",
       "      <th>A11</th>\n",
       "      <th>A12</th>\n",
       "      <th>A13</th>\n",
       "      <th>A14</th>\n",
       "      <th>Class</th>\n",
       "    </tr>\n",
       "  </thead>\n",
       "  <tbody>\n",
       "    <tr>\n",
       "      <th>0</th>\n",
       "      <td>15776156</td>\n",
       "      <td>1</td>\n",
       "      <td>22.08</td>\n",
       "      <td>11.46</td>\n",
       "      <td>2</td>\n",
       "      <td>4</td>\n",
       "      <td>4</td>\n",
       "      <td>1.585</td>\n",
       "      <td>0</td>\n",
       "      <td>0</td>\n",
       "      <td>0</td>\n",
       "      <td>1</td>\n",
       "      <td>2</td>\n",
       "      <td>100</td>\n",
       "      <td>1213</td>\n",
       "      <td>0</td>\n",
       "    </tr>\n",
       "    <tr>\n",
       "      <th>1</th>\n",
       "      <td>15739548</td>\n",
       "      <td>0</td>\n",
       "      <td>22.67</td>\n",
       "      <td>7.00</td>\n",
       "      <td>2</td>\n",
       "      <td>8</td>\n",
       "      <td>4</td>\n",
       "      <td>0.165</td>\n",
       "      <td>0</td>\n",
       "      <td>0</td>\n",
       "      <td>0</td>\n",
       "      <td>0</td>\n",
       "      <td>2</td>\n",
       "      <td>160</td>\n",
       "      <td>1</td>\n",
       "      <td>0</td>\n",
       "    </tr>\n",
       "    <tr>\n",
       "      <th>2</th>\n",
       "      <td>15662854</td>\n",
       "      <td>0</td>\n",
       "      <td>29.58</td>\n",
       "      <td>1.75</td>\n",
       "      <td>1</td>\n",
       "      <td>4</td>\n",
       "      <td>4</td>\n",
       "      <td>1.250</td>\n",
       "      <td>0</td>\n",
       "      <td>0</td>\n",
       "      <td>0</td>\n",
       "      <td>1</td>\n",
       "      <td>2</td>\n",
       "      <td>280</td>\n",
       "      <td>1</td>\n",
       "      <td>0</td>\n",
       "    </tr>\n",
       "    <tr>\n",
       "      <th>3</th>\n",
       "      <td>15687688</td>\n",
       "      <td>0</td>\n",
       "      <td>21.67</td>\n",
       "      <td>11.50</td>\n",
       "      <td>1</td>\n",
       "      <td>5</td>\n",
       "      <td>3</td>\n",
       "      <td>0.000</td>\n",
       "      <td>1</td>\n",
       "      <td>1</td>\n",
       "      <td>11</td>\n",
       "      <td>1</td>\n",
       "      <td>2</td>\n",
       "      <td>0</td>\n",
       "      <td>1</td>\n",
       "      <td>1</td>\n",
       "    </tr>\n",
       "    <tr>\n",
       "      <th>4</th>\n",
       "      <td>15715750</td>\n",
       "      <td>1</td>\n",
       "      <td>20.17</td>\n",
       "      <td>8.17</td>\n",
       "      <td>2</td>\n",
       "      <td>6</td>\n",
       "      <td>4</td>\n",
       "      <td>1.960</td>\n",
       "      <td>1</td>\n",
       "      <td>1</td>\n",
       "      <td>14</td>\n",
       "      <td>0</td>\n",
       "      <td>2</td>\n",
       "      <td>60</td>\n",
       "      <td>159</td>\n",
       "      <td>1</td>\n",
       "    </tr>\n",
       "  </tbody>\n",
       "</table>\n",
       "</div>"
      ],
      "text/plain": [
       "   CustomerID  A1     A2     A3  A4  A5  A6     A7  A8  A9  A10  A11  A12  \\\n",
       "0    15776156   1  22.08  11.46   2   4   4  1.585   0   0    0    1    2   \n",
       "1    15739548   0  22.67   7.00   2   8   4  0.165   0   0    0    0    2   \n",
       "2    15662854   0  29.58   1.75   1   4   4  1.250   0   0    0    1    2   \n",
       "3    15687688   0  21.67  11.50   1   5   3  0.000   1   1   11    1    2   \n",
       "4    15715750   1  20.17   8.17   2   6   4  1.960   1   1   14    0    2   \n",
       "\n",
       "   A13   A14  Class  \n",
       "0  100  1213      0  \n",
       "1  160     1      0  \n",
       "2  280     1      0  \n",
       "3    0     1      1  \n",
       "4   60   159      1  "
      ]
     },
     "execution_count": 3,
     "metadata": {},
     "output_type": "execute_result"
    }
   ],
   "source": [
    "df.head()"
   ]
  },
  {
   "cell_type": "code",
   "execution_count": 4,
   "metadata": {},
   "outputs": [],
   "source": [
    "X = df.iloc[:,:-1].values\n",
    "y = df.iloc[:,-1].values"
   ]
  },
  {
   "cell_type": "code",
   "execution_count": 5,
   "metadata": {},
   "outputs": [],
   "source": [
    "from sklearn.preprocessing import MinMaxScaler\n",
    "mm = MinMaxScaler()\n",
    "X = mm.fit_transform(X)"
   ]
  },
  {
   "cell_type": "code",
   "execution_count": 6,
   "metadata": {},
   "outputs": [
    {
     "data": {
      "text/plain": [
       "(690, 15)"
      ]
     },
     "execution_count": 6,
     "metadata": {},
     "output_type": "execute_result"
    }
   ],
   "source": [
    "X.shape"
   ]
  },
  {
   "cell_type": "code",
   "execution_count": 7,
   "metadata": {},
   "outputs": [
    {
     "data": {
      "text/plain": [
       "(690,)"
      ]
     },
     "execution_count": 7,
     "metadata": {},
     "output_type": "execute_result"
    }
   ],
   "source": [
    "y.shape"
   ]
  },
  {
   "cell_type": "code",
   "execution_count": 8,
   "metadata": {},
   "outputs": [],
   "source": [
    "#SOM initialization\n",
    "som = MiniSom(x=10,y=10,input_len=15, sigma=1, learning_rate=0.5)"
   ]
  },
  {
   "cell_type": "code",
   "execution_count": 9,
   "metadata": {},
   "outputs": [],
   "source": [
    "#weight initialization\n",
    "som.random_weights_init(X)\n",
    "#training SOM\n",
    "som.train_random(data=X, num_iteration=100)"
   ]
  },
  {
   "cell_type": "code",
   "execution_count": 10,
   "metadata": {},
   "outputs": [],
   "source": [
    "#visualizing the results\n",
    "#mit is the mean of distance of all the neurons from the winning node\n",
    "from pylab import bone, pcolor, colorbar, plot, show"
   ]
  },
  {
   "cell_type": "code",
   "execution_count": 11,
   "metadata": {},
   "outputs": [
    {
     "data": {
      "image/png": "[encoded data removed]",
      "text/plain": [
       "<Figure size 720x432 with 2 Axes>"
      ]
     },
     "metadata": {
      "needs_background": "light"
     },
     "output_type": "display_data"
    }
   ],
   "source": [
    "plt.figure(figsize=(10,6))\n",
    "bone()\n",
    "pcolor(som.distance_map().T) #return distances of all the winning node\n",
    "colorbar() #will give legend of all colors\n",
    "markers = ['o','s']\n",
    "colors = ['r','g'] #red no approval, green got approval\n",
    "for i, x in enumerate(X):\n",
    "    w = som.winner(x)\n",
    "    plot(w[0] + 0.5,\n",
    "        w[1] + 0.5,\n",
    "        markers[y[i]],\n",
    "        markeredgecolor = colors[y[i]],\n",
    "        markerfacecolor = 'None',\n",
    "        markersize = 10,\n",
    "        markeredgewidth = 2)"
   ]
  },
  {
   "cell_type": "code",
   "execution_count": 12,
   "metadata": {},
   "outputs": [],
   "source": [
    "#Finding the frauds\n",
    "mappings = som.win_map(X)"
   ]
  },
  {
   "cell_type": "code",
   "execution_count": 15,
   "metadata": {},
   "outputs": [],
   "source": [
    "frauds = mappings[(3,8)]"
   ]
  },
  {
   "cell_type": "code",
   "execution_count": 16,
   "metadata": {},
   "outputs": [
    {
     "data": {
      "text/plain": [
       "[array([0.38898166, 0.        , 0.23804511, 0.0625    , 0.        ,\n",
       "        0.23076923, 0.375     , 0.04385965, 0.        , 0.        ,\n",
       "        0.        , 1.        , 0.5       , 0.14      , 0.        ]),\n",
       " array([1.77504415e-01, 0.00000000e+00, 1.00300752e-01, 3.75000000e-01,\n",
       "        0.00000000e+00, 1.00000000e+00, 8.75000000e-01, 0.00000000e+00,\n",
       "        0.00000000e+00, 0.00000000e+00, 0.00000000e+00, 1.00000000e+00,\n",
       "        5.00000000e-01, 7.70000000e-02, 3.20000000e-04]),\n",
       " array([0.00980263, 0.        , 0.08646617, 0.00589286, 0.5       ,\n",
       "        0.76923077, 0.375     , 0.00140351, 0.        , 0.        ,\n",
       "        0.        , 1.        , 0.5       , 0.19      , 0.        ]),\n",
       " array([0.71942386, 0.        , 0.29067669, 0.05803571, 0.5       ,\n",
       "        0.07692308, 0.375     , 0.01894737, 0.        , 0.        ,\n",
       "        0.        , 1.        , 0.5       , 0.        , 0.        ]),\n",
       " array([2.93394039e-01, 0.00000000e+00, 6.47819549e-01, 1.51785714e-01,\n",
       "        0.00000000e+00, 0.00000000e+00, 0.00000000e+00, 1.75438596e-01,\n",
       "        0.00000000e+00, 0.00000000e+00, 0.00000000e+00, 1.00000000e+00,\n",
       "        5.00000000e-01, 0.00000000e+00, 4.00000000e-05]),\n",
       " array([3.56029936e-01, 0.00000000e+00, 5.95187970e-01, 5.89285714e-03,\n",
       "        5.00000000e-01, 0.00000000e+00, 0.00000000e+00, 0.00000000e+00,\n",
       "        0.00000000e+00, 0.00000000e+00, 0.00000000e+00, 1.00000000e+00,\n",
       "        0.00000000e+00, 3.10000000e-02, 2.70000000e-04]),\n",
       " array([0.38617061, 0.        , 0.2406015 , 0.02375   , 0.5       ,\n",
       "        0.61538462, 0.375     , 0.00877193, 0.        , 0.        ,\n",
       "        0.        , 1.        , 0.5       , 0.15      , 0.        ]),\n",
       " array([2.30233573e-01, 0.00000000e+00, 1.92932331e-01, 9.07142857e-02,\n",
       "        0.00000000e+00, 0.00000000e+00, 0.00000000e+00, 0.00000000e+00,\n",
       "        0.00000000e+00, 0.00000000e+00, 0.00000000e+00, 1.00000000e+00,\n",
       "        5.00000000e-01, 9.00000000e-02, 6.00000000e-04]),\n",
       " array([0.67618899, 0.        , 0.12030075, 0.41964286, 0.5       ,\n",
       "        0.53846154, 0.375     , 0.00877193, 0.        , 0.        ,\n",
       "        0.        , 1.        , 0.5       , 0.09      , 0.        ]),\n",
       " array([0.01919681, 0.        , 0.57398496, 0.23214286, 0.5       ,\n",
       "        0.15384615, 0.5       , 0.10824561, 0.        , 0.        ,\n",
       "        0.        , 1.        , 0.5       , 0.0365    , 0.        ]),\n",
       " array([9.20249551e-01, 0.00000000e+00, 4.28571429e-01, 6.25000000e-02,\n",
       "        0.00000000e+00, 5.38461538e-01, 3.75000000e-01, 0.00000000e+00,\n",
       "        0.00000000e+00, 0.00000000e+00, 0.00000000e+00, 1.00000000e+00,\n",
       "        5.00000000e-01, 7.50000000e-02, 1.00000000e-05]),\n",
       " array([0.30440598, 0.        , 0.54887218, 0.02982143, 0.5       ,\n",
       "        0.38461538, 0.375     , 0.01754386, 0.        , 0.        ,\n",
       "        0.        , 1.        , 0.5       , 0.12      , 0.00117   ]),\n",
       " array([3.78129893e-01, 0.00000000e+00, 1.86766917e-01, 7.14285714e-02,\n",
       "        5.00000000e-01, 3.07692308e-01, 2.50000000e-01, 0.00000000e+00,\n",
       "        0.00000000e+00, 0.00000000e+00, 0.00000000e+00, 1.00000000e+00,\n",
       "        5.00000000e-01, 1.38000000e-01, 1.00000000e-05]),\n",
       " array([0.1515683 , 0.        , 0.13789474, 0.04464286, 0.5       ,\n",
       "        0.76923077, 0.375     , 0.00877193, 0.        , 0.        ,\n",
       "        0.        , 1.        , 0.5       , 0.06      , 0.00809   ]),\n",
       " array([0.94964942, 0.        , 0.2481203 , 0.19642857, 0.5       ,\n",
       "        0.23076923, 0.375     , 0.19298246, 0.        , 0.        ,\n",
       "        0.        , 1.        , 0.        , 0.05      , 0.        ]),\n",
       " array([3.96453756e-01, 0.00000000e+00, 1.66616541e-01, 1.60714286e-01,\n",
       "        5.00000000e-01, 6.15384615e-01, 3.75000000e-01, 3.50877193e-02,\n",
       "        0.00000000e+00, 0.00000000e+00, 0.00000000e+00, 1.00000000e+00,\n",
       "        5.00000000e-01, 1.80000000e-01, 6.00000000e-05]),\n",
       " array([2.46723448e-01, 0.00000000e+00, 1.47819549e-01, 4.10714286e-01,\n",
       "        0.00000000e+00, 2.30769231e-01, 8.75000000e-01, 1.05263158e-01,\n",
       "        0.00000000e+00, 0.00000000e+00, 0.00000000e+00, 1.00000000e+00,\n",
       "        5.00000000e-01, 1.00000000e-02, 1.60000000e-04]),\n",
       " array([0.32077172, 0.        , 0.06511278, 0.01339286, 1.        ,\n",
       "        0.92307692, 0.        , 0.35087719, 0.        , 0.        ,\n",
       "        0.        , 1.        , 0.        , 0.15      , 0.        ]),\n",
       " array([0.94037937, 0.        , 0.47488722, 0.03571429, 0.5       ,\n",
       "        0.76923077, 0.375     , 0.00438596, 0.        , 0.        ,\n",
       "        0.        , 1.        , 0.5       , 0.1315    , 0.        ]),\n",
       " array([0.20933492, 0.        , 0.31699248, 0.04464286, 0.        ,\n",
       "        0.15384615, 0.875     , 0.01754386, 0.        , 0.        ,\n",
       "        0.        , 1.        , 0.5       , 0.08      , 0.        ]),\n",
       " array([5.22190054e-01, 0.00000000e+00, 2.93233083e-01, 8.92857143e-02,\n",
       "        0.00000000e+00, 5.38461538e-01, 3.75000000e-01, 8.77192982e-02,\n",
       "        0.00000000e+00, 0.00000000e+00, 0.00000000e+00, 1.00000000e+00,\n",
       "        5.00000000e-01, 0.00000000e+00, 2.00000000e-05]),\n",
       " array([0.7401263 , 0.        , 0.46992481, 0.16375   , 0.5       ,\n",
       "        0.23076923, 0.875     , 0.03508772, 0.        , 0.        ,\n",
       "        0.        , 1.        , 0.        , 0.12      , 0.        ]),\n",
       " array([0.00882957, 0.        , 0.14661654, 0.05357143, 0.5       ,\n",
       "        0.61538462, 0.375     , 0.03070175, 0.        , 0.        ,\n",
       "        0.        , 1.        , 0.5       , 0.08      , 0.        ]),\n",
       " array([0.48820922, 0.        , 0.29203008, 0.08035714, 0.        ,\n",
       "        0.92307692, 0.375     , 0.12280702, 0.        , 0.        ,\n",
       "        0.        , 1.        , 0.5       , 0.1       , 0.00141   ]),\n",
       " array([2.92465032e-01, 0.00000000e+00, 2.09323308e-01, 7.28571429e-02,\n",
       "        5.00000000e-01, 6.15384615e-01, 3.75000000e-01, 8.77192982e-03,\n",
       "        0.00000000e+00, 0.00000000e+00, 0.00000000e+00, 1.00000000e+00,\n",
       "        5.00000000e-01, 9.00000000e-02, 5.00000000e-04]),\n",
       " array([0.30149882, 0.        , 0.17293233, 0.44642857, 0.5       ,\n",
       "        0.07692308, 0.375     , 0.03508772, 0.        , 0.        ,\n",
       "        0.        , 1.        , 0.5       , 0.09      , 0.01062   ]),\n",
       " array([0.39763103, 0.        , 0.13157895, 0.01482143, 0.5       ,\n",
       "        0.15384615, 0.375     , 0.01175439, 0.        , 0.        ,\n",
       "        0.        , 1.        , 0.        , 0.072     , 0.        ]),\n",
       " array([0.16353727, 0.        , 0.27819549, 0.05357143, 0.5       ,\n",
       "        0.53846154, 0.375     , 0.00877193, 0.        , 0.        ,\n",
       "        0.        , 1.        , 0.5       , 0.186     , 0.00122   ])]"
      ]
     },
     "execution_count": 16,
     "metadata": {},
     "output_type": "execute_result"
    }
   ],
   "source": [
    "frauds"
   ]
  },
  {
   "cell_type": "code",
   "execution_count": 17,
   "metadata": {},
   "outputs": [],
   "source": [
    "frauds = mm.inverse_transform(frauds)"
   ]
  },
  {
   "cell_type": "code",
   "execution_count": 21,
   "metadata": {},
   "outputs": [
    {
     "data": {
      "text/plain": [
       "28"
      ]
     },
     "execution_count": 21,
     "metadata": {},
     "output_type": "execute_result"
    }
   ],
   "source": [
    "len(frauds)"
   ]
  },
  {
   "cell_type": "code",
   "execution_count": null,
   "metadata": {},
   "outputs": [],
   "source": []
  }
 ],
 "metadata": {
  "kernelspec": {
   "display_name": "Python 3",
   "language": "python",
   "name": "python3"
  },
  "language_info": {
   "codemirror_mode": {
    "name": "ipython",
    "version": 3
   },
   "file_extension": ".py",
   "mimetype": "text/x-python",
   "name": "python",
   "nbconvert_exporter": "python",
   "pygments_lexer": "ipython3",
   "version": "3.7.1"
  }
 },
 "nbformat": 4,
 "nbformat_minor": 2
}
